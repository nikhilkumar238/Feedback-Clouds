{
 "cells": [
  {
   "cell_type": "code",
   "execution_count": null,
   "metadata": {},
   "outputs": [],
   "source": []
  },
  {
   "cell_type": "code",
   "execution_count": 3,
   "metadata": {},
   "outputs": [
    {
     "name": "stderr",
     "output_type": "stream",
     "text": [
      "[nltk_data] Downloading package punkt to\n",
      "[nltk_data]     C:\\Users\\Nikhil\\AppData\\Roaming\\nltk_data...\n",
      "[nltk_data]   Package punkt is already up-to-date!\n",
      "[nltk_data] Downloading package stopwords to\n",
      "[nltk_data]     C:\\Users\\Nikhil\\AppData\\Roaming\\nltk_data...\n",
      "[nltk_data]   Package stopwords is already up-to-date!\n",
      "[nltk_data] Downloading package wordnet to\n",
      "[nltk_data]     C:\\Users\\Nikhil\\AppData\\Roaming\\nltk_data...\n",
      "[nltk_data]   Package wordnet is already up-to-date!\n"
     ]
    },
    {
     "data": {
      "text/plain": [
       "True"
      ]
     },
     "execution_count": 3,
     "metadata": {},
     "output_type": "execute_result"
    }
   ],
   "source": [
    "import pandas as pd\n",
    "import re\n",
    "import nltk\n",
    "nltk.download('punkt')\n",
    "nltk.download('stopwords')\n",
    "nltk.download('wordnet')"
   ]
  },
  {
   "cell_type": "code",
   "execution_count": 4,
   "metadata": {},
   "outputs": [],
   "source": [
    "pd.set_option('display.max_colwidth',None)"
   ]
  },
  {
   "cell_type": "code",
   "execution_count": 5,
   "metadata": {},
   "outputs": [
    {
     "data": {
      "text/html": [
       "<div>\n",
       "<style scoped>\n",
       "    .dataframe tbody tr th:only-of-type {\n",
       "        vertical-align: middle;\n",
       "    }\n",
       "\n",
       "    .dataframe tbody tr th {\n",
       "        vertical-align: top;\n",
       "    }\n",
       "\n",
       "    .dataframe thead th {\n",
       "        text-align: right;\n",
       "    }\n",
       "</style>\n",
       "<table border=\"1\" class=\"dataframe\">\n",
       "  <thead>\n",
       "    <tr style=\"text-align: right;\">\n",
       "      <th></th>\n",
       "      <th>0</th>\n",
       "    </tr>\n",
       "  </thead>\n",
       "  <tbody>\n",
       "    <tr>\n",
       "      <th>0</th>\n",
       "      <td>Ya no I'd ur going make an app make sure it works</td>\n",
       "    </tr>\n",
       "    <tr>\n",
       "      <th>1</th>\n",
       "      <td>STUPID ADDS THE STUPID ADDS POP UP EVERY 5 SECONDS 4 THAT DUMB GAME OF WAR OTHER THAN THAT... ALL U DO IS CHASE MICE AND WHEN U DONT WANT TO BE ON TIME MODE IT PUTS U ON ANYWAYS</td>\n",
       "    </tr>\n",
       "    <tr>\n",
       "      <th>2</th>\n",
       "      <td>WTF Needs way more detail. 1. Sun should go down at 830pm not 900am 2. Animals 3. TNT block, diamond blocks and all them rare ones 4 A mother fkin save button 5. People Planet of cubes has all, install it</td>\n",
       "    </tr>\n",
       "    <tr>\n",
       "      <th>3</th>\n",
       "      <td>I love this game. But all of a sudden it when I go play the next episode it will play the stupid ads and then it just sits on the loading page. I have to close and reopen the app every single time now. This is very frustrating. PLEASE FIX THIS ASAP</td>\n",
       "    </tr>\n",
       "    <tr>\n",
       "      <th>4</th>\n",
       "      <td>Mark Now I can't send photo n images pls fix it and no more icon</td>\n",
       "    </tr>\n",
       "  </tbody>\n",
       "</table>\n",
       "</div>"
      ],
      "text/plain": [
       "                                                                                                                                                                                                                                                          0\n",
       "0                                                                                                                                                                                                         Ya no I'd ur going make an app make sure it works\n",
       "1                                                                        STUPID ADDS THE STUPID ADDS POP UP EVERY 5 SECONDS 4 THAT DUMB GAME OF WAR OTHER THAN THAT... ALL U DO IS CHASE MICE AND WHEN U DONT WANT TO BE ON TIME MODE IT PUTS U ON ANYWAYS \n",
       "2                                              WTF Needs way more detail. 1. Sun should go down at 830pm not 900am 2. Animals 3. TNT block, diamond blocks and all them rare ones 4 A mother fkin save button 5. People Planet of cubes has all, install it\n",
       "3  I love this game. But all of a sudden it when I go play the next episode it will play the stupid ads and then it just sits on the loading page. I have to close and reopen the app every single time now. This is very frustrating. PLEASE FIX THIS ASAP\n",
       "4                                                                                                                                                                                          Mark Now I can't send photo n images pls fix it and no more icon"
      ]
     },
     "execution_count": 5,
     "metadata": {},
     "output_type": "execute_result"
    }
   ],
   "source": [
    "neg_data = pd.read_csv(\"negative10k.txt\", sep=\"\\t\", header=None)\n",
    "neg_data.head()"
   ]
  },
  {
   "cell_type": "code",
   "execution_count": 6,
   "metadata": {},
   "outputs": [
    {
     "data": {
      "text/html": [
       "<div>\n",
       "<style scoped>\n",
       "    .dataframe tbody tr th:only-of-type {\n",
       "        vertical-align: middle;\n",
       "    }\n",
       "\n",
       "    .dataframe tbody tr th {\n",
       "        vertical-align: top;\n",
       "    }\n",
       "\n",
       "    .dataframe thead th {\n",
       "        text-align: right;\n",
       "    }\n",
       "</style>\n",
       "<table border=\"1\" class=\"dataframe\">\n",
       "  <thead>\n",
       "    <tr style=\"text-align: right;\">\n",
       "      <th></th>\n",
       "      <th>Comment</th>\n",
       "      <th>is_positive</th>\n",
       "    </tr>\n",
       "  </thead>\n",
       "  <tbody>\n",
       "    <tr>\n",
       "      <th>0</th>\n",
       "      <td>Ya no I'd ur going make an app make sure it works</td>\n",
       "      <td>0</td>\n",
       "    </tr>\n",
       "    <tr>\n",
       "      <th>1</th>\n",
       "      <td>STUPID ADDS THE STUPID ADDS POP UP EVERY 5 SECONDS 4 THAT DUMB GAME OF WAR OTHER THAN THAT... ALL U DO IS CHASE MICE AND WHEN U DONT WANT TO BE ON TIME MODE IT PUTS U ON ANYWAYS</td>\n",
       "      <td>0</td>\n",
       "    </tr>\n",
       "    <tr>\n",
       "      <th>2</th>\n",
       "      <td>WTF Needs way more detail. 1. Sun should go down at 830pm not 900am 2. Animals 3. TNT block, diamond blocks and all them rare ones 4 A mother fkin save button 5. People Planet of cubes has all, install it</td>\n",
       "      <td>0</td>\n",
       "    </tr>\n",
       "    <tr>\n",
       "      <th>3</th>\n",
       "      <td>I love this game. But all of a sudden it when I go play the next episode it will play the stupid ads and then it just sits on the loading page. I have to close and reopen the app every single time now. This is very frustrating. PLEASE FIX THIS ASAP</td>\n",
       "      <td>0</td>\n",
       "    </tr>\n",
       "    <tr>\n",
       "      <th>4</th>\n",
       "      <td>Mark Now I can't send photo n images pls fix it and no more icon</td>\n",
       "      <td>0</td>\n",
       "    </tr>\n",
       "  </tbody>\n",
       "</table>\n",
       "</div>"
      ],
      "text/plain": [
       "                                                                                                                                                                                                                                                    Comment  \\\n",
       "0                                                                                                                                                                                                         Ya no I'd ur going make an app make sure it works   \n",
       "1                                                                        STUPID ADDS THE STUPID ADDS POP UP EVERY 5 SECONDS 4 THAT DUMB GAME OF WAR OTHER THAN THAT... ALL U DO IS CHASE MICE AND WHEN U DONT WANT TO BE ON TIME MODE IT PUTS U ON ANYWAYS    \n",
       "2                                              WTF Needs way more detail. 1. Sun should go down at 830pm not 900am 2. Animals 3. TNT block, diamond blocks and all them rare ones 4 A mother fkin save button 5. People Planet of cubes has all, install it   \n",
       "3  I love this game. But all of a sudden it when I go play the next episode it will play the stupid ads and then it just sits on the loading page. I have to close and reopen the app every single time now. This is very frustrating. PLEASE FIX THIS ASAP   \n",
       "4                                                                                                                                                                                          Mark Now I can't send photo n images pls fix it and no more icon   \n",
       "\n",
       "   is_positive  \n",
       "0            0  \n",
       "1            0  \n",
       "2            0  \n",
       "3            0  \n",
       "4            0  "
      ]
     },
     "execution_count": 6,
     "metadata": {},
     "output_type": "execute_result"
    }
   ],
   "source": [
    "neg_data.rename(columns={neg_data.columns[0]: 'Comment'}, inplace=True) \n",
    "neg_data['is_positive']= 0\n",
    "neg_data.head()"
   ]
  },
  {
   "cell_type": "code",
   "execution_count": 7,
   "metadata": {},
   "outputs": [
    {
     "data": {
      "text/html": [
       "<div>\n",
       "<style scoped>\n",
       "    .dataframe tbody tr th:only-of-type {\n",
       "        vertical-align: middle;\n",
       "    }\n",
       "\n",
       "    .dataframe tbody tr th {\n",
       "        vertical-align: top;\n",
       "    }\n",
       "\n",
       "    .dataframe thead th {\n",
       "        text-align: right;\n",
       "    }\n",
       "</style>\n",
       "<table border=\"1\" class=\"dataframe\">\n",
       "  <thead>\n",
       "    <tr style=\"text-align: right;\">\n",
       "      <th></th>\n",
       "      <th>0</th>\n",
       "    </tr>\n",
       "  </thead>\n",
       "  <tbody>\n",
       "    <tr>\n",
       "      <th>0</th>\n",
       "      <td>Very simple and effective way for new words for kids</td>\n",
       "    </tr>\n",
       "    <tr>\n",
       "      <th>1</th>\n",
       "      <td>Fh d Fcfatgv</td>\n",
       "    </tr>\n",
       "    <tr>\n",
       "      <th>2</th>\n",
       "      <td>My son loved it. It is easy even though my son is in first grade. Highly recommend it.</td>\n",
       "    </tr>\n",
       "    <tr>\n",
       "      <th>3</th>\n",
       "      <td>Brilliant A brilliant app that is challenging but great fun. The only thing I think could be better is if they grouped each difficulty together. Other than that, it's fantastic and I love playing it</td>\n",
       "    </tr>\n",
       "    <tr>\n",
       "      <th>4</th>\n",
       "      <td>Good I have gotten several updates and new games help out alot.</td>\n",
       "    </tr>\n",
       "  </tbody>\n",
       "</table>\n",
       "</div>"
      ],
      "text/plain": [
       "                                                                                                                                                                                                        0\n",
       "0                                                                                                                                                    Very simple and effective way for new words for kids\n",
       "1                                                                                                                                                                                            Fh d Fcfatgv\n",
       "2                                                                                                                  My son loved it. It is easy even though my son is in first grade. Highly recommend it.\n",
       "3  Brilliant A brilliant app that is challenging but great fun. The only thing I think could be better is if they grouped each difficulty together. Other than that, it's fantastic and I love playing it\n",
       "4                                                                                                                                         Good I have gotten several updates and new games help out alot."
      ]
     },
     "execution_count": 7,
     "metadata": {},
     "output_type": "execute_result"
    }
   ],
   "source": [
    "pos_data = pd.read_csv(\"positive10k.txt\", sep=\"\\t\", header=None)\n",
    "pos_data.head()"
   ]
  },
  {
   "cell_type": "code",
   "execution_count": 8,
   "metadata": {},
   "outputs": [
    {
     "data": {
      "text/html": [
       "<div>\n",
       "<style scoped>\n",
       "    .dataframe tbody tr th:only-of-type {\n",
       "        vertical-align: middle;\n",
       "    }\n",
       "\n",
       "    .dataframe tbody tr th {\n",
       "        vertical-align: top;\n",
       "    }\n",
       "\n",
       "    .dataframe thead th {\n",
       "        text-align: right;\n",
       "    }\n",
       "</style>\n",
       "<table border=\"1\" class=\"dataframe\">\n",
       "  <thead>\n",
       "    <tr style=\"text-align: right;\">\n",
       "      <th></th>\n",
       "      <th>Comment</th>\n",
       "      <th>is_positive</th>\n",
       "    </tr>\n",
       "  </thead>\n",
       "  <tbody>\n",
       "    <tr>\n",
       "      <th>0</th>\n",
       "      <td>Very simple and effective way for new words for kids</td>\n",
       "      <td>1</td>\n",
       "    </tr>\n",
       "    <tr>\n",
       "      <th>1</th>\n",
       "      <td>Fh d Fcfatgv</td>\n",
       "      <td>1</td>\n",
       "    </tr>\n",
       "    <tr>\n",
       "      <th>2</th>\n",
       "      <td>My son loved it. It is easy even though my son is in first grade. Highly recommend it.</td>\n",
       "      <td>1</td>\n",
       "    </tr>\n",
       "    <tr>\n",
       "      <th>3</th>\n",
       "      <td>Brilliant A brilliant app that is challenging but great fun. The only thing I think could be better is if they grouped each difficulty together. Other than that, it's fantastic and I love playing it</td>\n",
       "      <td>1</td>\n",
       "    </tr>\n",
       "    <tr>\n",
       "      <th>4</th>\n",
       "      <td>Good I have gotten several updates and new games help out alot.</td>\n",
       "      <td>1</td>\n",
       "    </tr>\n",
       "  </tbody>\n",
       "</table>\n",
       "</div>"
      ],
      "text/plain": [
       "                                                                                                                                                                                                  Comment  \\\n",
       "0                                                                                                                                                    Very simple and effective way for new words for kids   \n",
       "1                                                                                                                                                                                            Fh d Fcfatgv   \n",
       "2                                                                                                                  My son loved it. It is easy even though my son is in first grade. Highly recommend it.   \n",
       "3  Brilliant A brilliant app that is challenging but great fun. The only thing I think could be better is if they grouped each difficulty together. Other than that, it's fantastic and I love playing it   \n",
       "4                                                                                                                                         Good I have gotten several updates and new games help out alot.   \n",
       "\n",
       "   is_positive  \n",
       "0            1  \n",
       "1            1  \n",
       "2            1  \n",
       "3            1  \n",
       "4            1  "
      ]
     },
     "execution_count": 8,
     "metadata": {},
     "output_type": "execute_result"
    }
   ],
   "source": [
    "pos_data.rename(columns={pos_data.columns[0]: 'Comment'}, inplace=True) \n",
    "pos_data['is_positive']= 1\n",
    "pos_data.head()"
   ]
  },
  {
   "cell_type": "code",
   "execution_count": 9,
   "metadata": {},
   "outputs": [],
   "source": [
    "#combining both dataframe and assert whether length are equal or not\n",
    "combined_data = pd.concat([neg_data, pos_data], axis=0,ignore_index=True)\n",
    "assert len(combined_data) == len(pos_data) + len(neg_data)"
   ]
  },
  {
   "cell_type": "code",
   "execution_count": 10,
   "metadata": {},
   "outputs": [
    {
     "data": {
      "text/html": [
       "<div>\n",
       "<style scoped>\n",
       "    .dataframe tbody tr th:only-of-type {\n",
       "        vertical-align: middle;\n",
       "    }\n",
       "\n",
       "    .dataframe tbody tr th {\n",
       "        vertical-align: top;\n",
       "    }\n",
       "\n",
       "    .dataframe thead th {\n",
       "        text-align: right;\n",
       "    }\n",
       "</style>\n",
       "<table border=\"1\" class=\"dataframe\">\n",
       "  <thead>\n",
       "    <tr style=\"text-align: right;\">\n",
       "      <th></th>\n",
       "      <th>Comment</th>\n",
       "      <th>is_positive</th>\n",
       "    </tr>\n",
       "  </thead>\n",
       "  <tbody>\n",
       "    <tr>\n",
       "      <th>0</th>\n",
       "      <td>Ya no I'd ur going make an app make sure it works</td>\n",
       "      <td>0</td>\n",
       "    </tr>\n",
       "    <tr>\n",
       "      <th>1</th>\n",
       "      <td>STUPID ADDS THE STUPID ADDS POP UP EVERY 5 SECONDS 4 THAT DUMB GAME OF WAR OTHER THAN THAT... ALL U DO IS CHASE MICE AND WHEN U DONT WANT TO BE ON TIME MODE IT PUTS U ON ANYWAYS</td>\n",
       "      <td>0</td>\n",
       "    </tr>\n",
       "    <tr>\n",
       "      <th>2</th>\n",
       "      <td>WTF Needs way more detail. 1. Sun should go down at 830pm not 900am 2. Animals 3. TNT block, diamond blocks and all them rare ones 4 A mother fkin save button 5. People Planet of cubes has all, install it</td>\n",
       "      <td>0</td>\n",
       "    </tr>\n",
       "    <tr>\n",
       "      <th>3</th>\n",
       "      <td>I love this game. But all of a sudden it when I go play the next episode it will play the stupid ads and then it just sits on the loading page. I have to close and reopen the app every single time now. This is very frustrating. PLEASE FIX THIS ASAP</td>\n",
       "      <td>0</td>\n",
       "    </tr>\n",
       "    <tr>\n",
       "      <th>4</th>\n",
       "      <td>Mark Now I can't send photo n images pls fix it and no more icon</td>\n",
       "      <td>0</td>\n",
       "    </tr>\n",
       "  </tbody>\n",
       "</table>\n",
       "</div>"
      ],
      "text/plain": [
       "                                                                                                                                                                                                                                                    Comment  \\\n",
       "0                                                                                                                                                                                                         Ya no I'd ur going make an app make sure it works   \n",
       "1                                                                        STUPID ADDS THE STUPID ADDS POP UP EVERY 5 SECONDS 4 THAT DUMB GAME OF WAR OTHER THAN THAT... ALL U DO IS CHASE MICE AND WHEN U DONT WANT TO BE ON TIME MODE IT PUTS U ON ANYWAYS    \n",
       "2                                              WTF Needs way more detail. 1. Sun should go down at 830pm not 900am 2. Animals 3. TNT block, diamond blocks and all them rare ones 4 A mother fkin save button 5. People Planet of cubes has all, install it   \n",
       "3  I love this game. But all of a sudden it when I go play the next episode it will play the stupid ads and then it just sits on the loading page. I have to close and reopen the app every single time now. This is very frustrating. PLEASE FIX THIS ASAP   \n",
       "4                                                                                                                                                                                          Mark Now I can't send photo n images pls fix it and no more icon   \n",
       "\n",
       "   is_positive  \n",
       "0            0  \n",
       "1            0  \n",
       "2            0  \n",
       "3            0  \n",
       "4            0  "
      ]
     },
     "execution_count": 10,
     "metadata": {},
     "output_type": "execute_result"
    }
   ],
   "source": [
    "combined_data.head()"
   ]
  },
  {
   "cell_type": "code",
   "execution_count": 11,
   "metadata": {},
   "outputs": [
    {
     "data": {
      "text/html": [
       "<div>\n",
       "<style scoped>\n",
       "    .dataframe tbody tr th:only-of-type {\n",
       "        vertical-align: middle;\n",
       "    }\n",
       "\n",
       "    .dataframe tbody tr th {\n",
       "        vertical-align: top;\n",
       "    }\n",
       "\n",
       "    .dataframe thead th {\n",
       "        text-align: right;\n",
       "    }\n",
       "</style>\n",
       "<table border=\"1\" class=\"dataframe\">\n",
       "  <thead>\n",
       "    <tr style=\"text-align: right;\">\n",
       "      <th></th>\n",
       "      <th>Comment</th>\n",
       "      <th>is_positive</th>\n",
       "    </tr>\n",
       "  </thead>\n",
       "  <tbody>\n",
       "    <tr>\n",
       "      <th>0</th>\n",
       "      <td>I paid for the game and I can't even open the doc to get tape out of fix please I just wasted money on this games won't do that again deleted</td>\n",
       "      <td>0</td>\n",
       "    </tr>\n",
       "    <tr>\n",
       "      <th>1</th>\n",
       "      <td>I love this game on the 360 but there needs to be d pad and not swipe controls so fix that plz google play</td>\n",
       "      <td>1</td>\n",
       "    </tr>\n",
       "    <tr>\n",
       "      <th>2</th>\n",
       "      <td>Ok but not so good Adds come in every round and it disturbs us</td>\n",
       "      <td>0</td>\n",
       "    </tr>\n",
       "    <tr>\n",
       "      <th>3</th>\n",
       "      <td>Fault alert Love the app but for the last 5 days been getting no arsenal updates see the stream is working on the mobile site though ... Sort it out lads</td>\n",
       "      <td>0</td>\n",
       "    </tr>\n",
       "    <tr>\n",
       "      <th>4</th>\n",
       "      <td>Pay to win I paid for the app. Why are there still in app purchases. It's one or the other.  Complete rip off.</td>\n",
       "      <td>0</td>\n",
       "    </tr>\n",
       "    <tr>\n",
       "      <th>5</th>\n",
       "      <td>Hey For</td>\n",
       "      <td>1</td>\n",
       "    </tr>\n",
       "    <tr>\n",
       "      <th>6</th>\n",
       "      <td>Great rally racing game. There is a lack of tracks but I'm not going to mark it down for that as it is a brilliant game with hopeful physics.</td>\n",
       "      <td>1</td>\n",
       "    </tr>\n",
       "    <tr>\n",
       "      <th>7</th>\n",
       "      <td>The perfect game to practice my kitchen prowess This app is perfect. Since I am a woman living in the kitchen, this gam  e hits really close to home. AWESOME</td>\n",
       "      <td>1</td>\n",
       "    </tr>\n",
       "    <tr>\n",
       "      <th>8</th>\n",
       "      <td>Stopped working Have had snapchat for over a year now, never too many issues, but now it wont open at all so having to uninstall it</td>\n",
       "      <td>0</td>\n",
       "    </tr>\n",
       "    <tr>\n",
       "      <th>9</th>\n",
       "      <td>Love it If I could only get notifications from lists.</td>\n",
       "      <td>1</td>\n",
       "    </tr>\n",
       "    <tr>\n",
       "      <th>10</th>\n",
       "      <td>Crasha ogni tre per due. Crasha troppo spesso,  bah</td>\n",
       "      <td>0</td>\n",
       "    </tr>\n",
       "    <tr>\n",
       "      <th>11</th>\n",
       "      <td>Awesome app My kids love it. Fun and easy learning</td>\n",
       "      <td>1</td>\n",
       "    </tr>\n",
       "    <tr>\n",
       "      <th>12</th>\n",
       "      <td>Not fast enough Very frustrating. When I open the app it takes forever before I can actually Shazam a song Ever since the new update when the stupid welcome screen appeared, it takes forever. So annoying</td>\n",
       "      <td>0</td>\n",
       "    </tr>\n",
       "    <tr>\n",
       "      <th>13</th>\n",
       "      <td>CAN'T FOLLOW ANYONE. This is ridiculous as hell. I can't follow people or even post publicly on my own profile because everything is always glitched. I like google, but this is just now starting to tick me off. FIX THIS BUG.. the update did nothing</td>\n",
       "      <td>0</td>\n",
       "    </tr>\n",
       "    <tr>\n",
       "      <th>14</th>\n",
       "      <td>Need help I emailed the support already, and waiting for response. This app closed itself after some black screen, really disappointed.</td>\n",
       "      <td>0</td>\n",
       "    </tr>\n",
       "    <tr>\n",
       "      <th>15</th>\n",
       "      <td>This update has a big problem I Open it and it's closed automatically... plz fix it cause i really missing it. Can't play the game</td>\n",
       "      <td>1</td>\n",
       "    </tr>\n",
       "    <tr>\n",
       "      <th>16</th>\n",
       "      <td>Great game Great game. Finished it three times on my old phone. Just re installed it on the new one and going play through again. The only thing I would like is the option to turn off the check points when you are trying to nail that three star</td>\n",
       "      <td>1</td>\n",
       "    </tr>\n",
       "    <tr>\n",
       "      <th>17</th>\n",
       "      <td>Lamia yes I can try again yes ok Dbhefb fhx</td>\n",
       "      <td>0</td>\n",
       "    </tr>\n",
       "    <tr>\n",
       "      <th>18</th>\n",
       "      <td>The best Twitter client for Android Functional and beautiful</td>\n",
       "      <td>1</td>\n",
       "    </tr>\n",
       "    <tr>\n",
       "      <th>19</th>\n",
       "      <td>Buttjie What we have been waiting for as consumers . We are now empowered</td>\n",
       "      <td>1</td>\n",
       "    </tr>\n",
       "  </tbody>\n",
       "</table>\n",
       "</div>"
      ],
      "text/plain": [
       "                                                                                                                                                                                                                                                     Comment  \\\n",
       "0                                                                                                              I paid for the game and I can't even open the doc to get tape out of fix please I just wasted money on this games won't do that again deleted   \n",
       "1                                                                                                                                                 I love this game on the 360 but there needs to be d pad and not swipe controls so fix that plz google play   \n",
       "2                                                                                                                                                                                             Ok but not so good Adds come in every round and it disturbs us   \n",
       "3                                                                                                  Fault alert Love the app but for the last 5 days been getting no arsenal updates see the stream is working on the mobile site though ... Sort it out lads   \n",
       "4                                                                                                                                             Pay to win I paid for the app. Why are there still in app purchases. It's one or the other.  Complete rip off.   \n",
       "5                                                                                                                                                                                                                                                    Hey For   \n",
       "6                                                                                                              Great rally racing game. There is a lack of tracks but I'm not going to mark it down for that as it is a brilliant game with hopeful physics.   \n",
       "7                                                                                              The perfect game to practice my kitchen prowess This app is perfect. Since I am a woman living in the kitchen, this gam  e hits really close to home. AWESOME   \n",
       "8                                                                                                                        Stopped working Have had snapchat for over a year now, never too many issues, but now it wont open at all so having to uninstall it   \n",
       "9                                                                                                                                                                                                      Love it If I could only get notifications from lists.   \n",
       "10                                                                                                                                                                                                       Crasha ogni tre per due. Crasha troppo spesso,  bah   \n",
       "11                                                                                                                                                                                                        Awesome app My kids love it. Fun and easy learning   \n",
       "12                                               Not fast enough Very frustrating. When I open the app it takes forever before I can actually Shazam a song Ever since the new update when the stupid welcome screen appeared, it takes forever. So annoying   \n",
       "13  CAN'T FOLLOW ANYONE. This is ridiculous as hell. I can't follow people or even post publicly on my own profile because everything is always glitched. I like google, but this is just now starting to tick me off. FIX THIS BUG.. the update did nothing   \n",
       "14                                                                                                                   Need help I emailed the support already, and waiting for response. This app closed itself after some black screen, really disappointed.   \n",
       "15                                                                                                                        This update has a big problem I Open it and it's closed automatically... plz fix it cause i really missing it. Can't play the game   \n",
       "16      Great game Great game. Finished it three times on my old phone. Just re installed it on the new one and going play through again. The only thing I would like is the option to turn off the check points when you are trying to nail that three star   \n",
       "17                                                                                                                                                                                                               Lamia yes I can try again yes ok Dbhefb fhx   \n",
       "18                                                                                                                                                                                              The best Twitter client for Android Functional and beautiful   \n",
       "19                                                                                                                                                                                 Buttjie What we have been waiting for as consumers . We are now empowered   \n",
       "\n",
       "    is_positive  \n",
       "0             0  \n",
       "1             1  \n",
       "2             0  \n",
       "3             0  \n",
       "4             0  \n",
       "5             1  \n",
       "6             1  \n",
       "7             1  \n",
       "8             0  \n",
       "9             1  \n",
       "10            0  \n",
       "11            1  \n",
       "12            0  \n",
       "13            0  \n",
       "14            0  \n",
       "15            1  \n",
       "16            1  \n",
       "17            0  \n",
       "18            1  \n",
       "19            1  "
      ]
     },
     "execution_count": 11,
     "metadata": {},
     "output_type": "execute_result"
    }
   ],
   "source": [
    "#shuffle the data \n",
    "combined_data = combined_data.sample(frac=1).reset_index(drop=True)\n",
    "combined_data.head(20)"
   ]
  },
  {
   "cell_type": "code",
   "execution_count": 12,
   "metadata": {},
   "outputs": [
    {
     "data": {
      "text/html": [
       "<div>\n",
       "<style scoped>\n",
       "    .dataframe tbody tr th:only-of-type {\n",
       "        vertical-align: middle;\n",
       "    }\n",
       "\n",
       "    .dataframe tbody tr th {\n",
       "        vertical-align: top;\n",
       "    }\n",
       "\n",
       "    .dataframe thead th {\n",
       "        text-align: right;\n",
       "    }\n",
       "</style>\n",
       "<table border=\"1\" class=\"dataframe\">\n",
       "  <thead>\n",
       "    <tr style=\"text-align: right;\">\n",
       "      <th></th>\n",
       "      <th>Comment</th>\n",
       "      <th>is_positive</th>\n",
       "    </tr>\n",
       "  </thead>\n",
       "  <tbody>\n",
       "    <tr>\n",
       "      <th>0</th>\n",
       "      <td>I paid for the game and I can't even open the doc to get tape out of fix please I just wasted money on this games won't do that again deleted</td>\n",
       "      <td>0</td>\n",
       "    </tr>\n",
       "    <tr>\n",
       "      <th>1</th>\n",
       "      <td>I love this game on the 360 but there needs to be d pad and not swipe controls so fix that plz google play</td>\n",
       "      <td>1</td>\n",
       "    </tr>\n",
       "    <tr>\n",
       "      <th>2</th>\n",
       "      <td>Ok but not so good Adds come in every round and it disturbs us</td>\n",
       "      <td>0</td>\n",
       "    </tr>\n",
       "    <tr>\n",
       "      <th>3</th>\n",
       "      <td>Fault alert Love the app but for the last 5 days been getting no arsenal updates see the stream is working on the mobile site though ... Sort it out lads</td>\n",
       "      <td>0</td>\n",
       "    </tr>\n",
       "    <tr>\n",
       "      <th>4</th>\n",
       "      <td>Pay to win I paid for the app. Why are there still in app purchases. It's one or the other.  Complete rip off.</td>\n",
       "      <td>0</td>\n",
       "    </tr>\n",
       "    <tr>\n",
       "      <th>5</th>\n",
       "      <td>Hey For</td>\n",
       "      <td>1</td>\n",
       "    </tr>\n",
       "    <tr>\n",
       "      <th>6</th>\n",
       "      <td>Great rally racing game. There is a lack of tracks but I'm not going to mark it down for that as it is a brilliant game with hopeful physics.</td>\n",
       "      <td>1</td>\n",
       "    </tr>\n",
       "    <tr>\n",
       "      <th>7</th>\n",
       "      <td>The perfect game to practice my kitchen prowess This app is perfect. Since I am a woman living in the kitchen, this gam  e hits really close to home. AWESOME</td>\n",
       "      <td>1</td>\n",
       "    </tr>\n",
       "    <tr>\n",
       "      <th>8</th>\n",
       "      <td>Stopped working Have had snapchat for over a year now, never too many issues, but now it wont open at all so having to uninstall it</td>\n",
       "      <td>0</td>\n",
       "    </tr>\n",
       "    <tr>\n",
       "      <th>9</th>\n",
       "      <td>Love it If I could only get notifications from lists.</td>\n",
       "      <td>1</td>\n",
       "    </tr>\n",
       "    <tr>\n",
       "      <th>10</th>\n",
       "      <td>Crasha ogni tre per due. Crasha troppo spesso,  bah</td>\n",
       "      <td>0</td>\n",
       "    </tr>\n",
       "    <tr>\n",
       "      <th>11</th>\n",
       "      <td>Awesome app My kids love it. Fun and easy learning</td>\n",
       "      <td>1</td>\n",
       "    </tr>\n",
       "    <tr>\n",
       "      <th>12</th>\n",
       "      <td>Not fast enough Very frustrating. When I open the app it takes forever before I can actually Shazam a song Ever since the new update when the stupid welcome screen appeared, it takes forever. So annoying</td>\n",
       "      <td>0</td>\n",
       "    </tr>\n",
       "    <tr>\n",
       "      <th>13</th>\n",
       "      <td>CAN'T FOLLOW ANYONE. This is ridiculous as hell. I can't follow people or even post publicly on my own profile because everything is always glitched. I like google, but this is just now starting to tick me off. FIX THIS BUG.. the update did nothing</td>\n",
       "      <td>0</td>\n",
       "    </tr>\n",
       "    <tr>\n",
       "      <th>14</th>\n",
       "      <td>Need help I emailed the support already, and waiting for response. This app closed itself after some black screen, really disappointed.</td>\n",
       "      <td>0</td>\n",
       "    </tr>\n",
       "    <tr>\n",
       "      <th>15</th>\n",
       "      <td>This update has a big problem I Open it and it's closed automatically... plz fix it cause i really missing it. Can't play the game</td>\n",
       "      <td>1</td>\n",
       "    </tr>\n",
       "    <tr>\n",
       "      <th>16</th>\n",
       "      <td>Great game Great game. Finished it three times on my old phone. Just re installed it on the new one and going play through again. The only thing I would like is the option to turn off the check points when you are trying to nail that three star</td>\n",
       "      <td>1</td>\n",
       "    </tr>\n",
       "    <tr>\n",
       "      <th>17</th>\n",
       "      <td>Lamia yes I can try again yes ok Dbhefb fhx</td>\n",
       "      <td>0</td>\n",
       "    </tr>\n",
       "    <tr>\n",
       "      <th>18</th>\n",
       "      <td>The best Twitter client for Android Functional and beautiful</td>\n",
       "      <td>1</td>\n",
       "    </tr>\n",
       "    <tr>\n",
       "      <th>19</th>\n",
       "      <td>Buttjie What we have been waiting for as consumers . We are now empowered</td>\n",
       "      <td>1</td>\n",
       "    </tr>\n",
       "  </tbody>\n",
       "</table>\n",
       "</div>"
      ],
      "text/plain": [
       "                                                                                                                                                                                                                                                     Comment  \\\n",
       "0                                                                                                              I paid for the game and I can't even open the doc to get tape out of fix please I just wasted money on this games won't do that again deleted   \n",
       "1                                                                                                                                                 I love this game on the 360 but there needs to be d pad and not swipe controls so fix that plz google play   \n",
       "2                                                                                                                                                                                             Ok but not so good Adds come in every round and it disturbs us   \n",
       "3                                                                                                  Fault alert Love the app but for the last 5 days been getting no arsenal updates see the stream is working on the mobile site though ... Sort it out lads   \n",
       "4                                                                                                                                             Pay to win I paid for the app. Why are there still in app purchases. It's one or the other.  Complete rip off.   \n",
       "5                                                                                                                                                                                                                                                    Hey For   \n",
       "6                                                                                                              Great rally racing game. There is a lack of tracks but I'm not going to mark it down for that as it is a brilliant game with hopeful physics.   \n",
       "7                                                                                              The perfect game to practice my kitchen prowess This app is perfect. Since I am a woman living in the kitchen, this gam  e hits really close to home. AWESOME   \n",
       "8                                                                                                                        Stopped working Have had snapchat for over a year now, never too many issues, but now it wont open at all so having to uninstall it   \n",
       "9                                                                                                                                                                                                      Love it If I could only get notifications from lists.   \n",
       "10                                                                                                                                                                                                       Crasha ogni tre per due. Crasha troppo spesso,  bah   \n",
       "11                                                                                                                                                                                                        Awesome app My kids love it. Fun and easy learning   \n",
       "12                                               Not fast enough Very frustrating. When I open the app it takes forever before I can actually Shazam a song Ever since the new update when the stupid welcome screen appeared, it takes forever. So annoying   \n",
       "13  CAN'T FOLLOW ANYONE. This is ridiculous as hell. I can't follow people or even post publicly on my own profile because everything is always glitched. I like google, but this is just now starting to tick me off. FIX THIS BUG.. the update did nothing   \n",
       "14                                                                                                                   Need help I emailed the support already, and waiting for response. This app closed itself after some black screen, really disappointed.   \n",
       "15                                                                                                                        This update has a big problem I Open it and it's closed automatically... plz fix it cause i really missing it. Can't play the game   \n",
       "16      Great game Great game. Finished it three times on my old phone. Just re installed it on the new one and going play through again. The only thing I would like is the option to turn off the check points when you are trying to nail that three star   \n",
       "17                                                                                                                                                                                                               Lamia yes I can try again yes ok Dbhefb fhx   \n",
       "18                                                                                                                                                                                              The best Twitter client for Android Functional and beautiful   \n",
       "19                                                                                                                                                                                 Buttjie What we have been waiting for as consumers . We are now empowered   \n",
       "\n",
       "    is_positive  \n",
       "0             0  \n",
       "1             1  \n",
       "2             0  \n",
       "3             0  \n",
       "4             0  \n",
       "5             1  \n",
       "6             1  \n",
       "7             1  \n",
       "8             0  \n",
       "9             1  \n",
       "10            0  \n",
       "11            1  \n",
       "12            0  \n",
       "13            0  \n",
       "14            0  \n",
       "15            1  \n",
       "16            1  \n",
       "17            0  \n",
       "18            1  \n",
       "19            1  "
      ]
     },
     "execution_count": 12,
     "metadata": {},
     "output_type": "execute_result"
    }
   ],
   "source": [
    "combined_data.to_csv(\"feedback.csv\", index = None, header=True)\n",
    "feedback = pd.read_csv(\"feedback.csv\")\n",
    "feedback.head(20)"
   ]
  },
  {
   "cell_type": "code",
   "execution_count": 13,
   "metadata": {},
   "outputs": [],
   "source": [
    "assert(len(combined_data)) == len(feedback)"
   ]
  },
  {
   "cell_type": "code",
   "execution_count": 14,
   "metadata": {},
   "outputs": [
    {
     "data": {
      "text/plain": [
       "'The best Twitter client for Android Functional and beautiful'"
      ]
     },
     "execution_count": 14,
     "metadata": {},
     "output_type": "execute_result"
    }
   ],
   "source": [
    "#to verying preprocessing \n",
    "test = combined_data['Comment'].iloc[18]\n",
    "test"
   ]
  },
  {
   "cell_type": "code",
   "execution_count": 15,
   "metadata": {},
   "outputs": [],
   "source": [
    "#remove non-alphanumeric\n",
    "def clean_non_alphanumeric(comment_text):\n",
    "    return re.sub('[^a-zA-Z]', ' ', comment_text)"
   ]
  },
  {
   "cell_type": "code",
   "execution_count": 16,
   "metadata": {},
   "outputs": [
    {
     "data": {
      "text/plain": [
       "'The best Twitter client for Android Functional and beautiful'"
      ]
     },
     "execution_count": 16,
     "metadata": {},
     "output_type": "execute_result"
    }
   ],
   "source": [
    "clean_non_alphanumeric(test)"
   ]
  },
  {
   "cell_type": "code",
   "execution_count": 17,
   "metadata": {},
   "outputs": [],
   "source": [
    "#converting to lowercase\n",
    "def clean_lowercase(comment_text):\n",
    "    return str(comment_text).lower()"
   ]
  },
  {
   "cell_type": "code",
   "execution_count": 18,
   "metadata": {},
   "outputs": [
    {
     "data": {
      "text/plain": [
       "'the best twitter client for android functional and beautiful'"
      ]
     },
     "execution_count": 18,
     "metadata": {},
     "output_type": "execute_result"
    }
   ],
   "source": [
    "clean_lowercase(test)"
   ]
  },
  {
   "cell_type": "code",
   "execution_count": 19,
   "metadata": {},
   "outputs": [],
   "source": [
    "#tokenizzation\n",
    "from nltk.tokenize import word_tokenize\n",
    "\n",
    "def clean_tokenization(comment_text):\n",
    "    return word_tokenize(comment_text)"
   ]
  },
  {
   "cell_type": "code",
   "execution_count": 20,
   "metadata": {},
   "outputs": [
    {
     "data": {
      "text/plain": [
       "['The',\n",
       " 'best',\n",
       " 'Twitter',\n",
       " 'client',\n",
       " 'for',\n",
       " 'Android',\n",
       " 'Functional',\n",
       " 'and',\n",
       " 'beautiful']"
      ]
     },
     "execution_count": 20,
     "metadata": {},
     "output_type": "execute_result"
    }
   ],
   "source": [
    "clean_tokenization(test)"
   ]
  },
  {
   "cell_type": "code",
   "execution_count": 21,
   "metadata": {},
   "outputs": [
    {
     "data": {
      "text/plain": [
       "['i',\n",
       " 'me',\n",
       " 'my',\n",
       " 'myself',\n",
       " 'we',\n",
       " 'our',\n",
       " 'ours',\n",
       " 'ourselves',\n",
       " 'you',\n",
       " \"you're\",\n",
       " \"you've\",\n",
       " \"you'll\",\n",
       " \"you'd\",\n",
       " 'your',\n",
       " 'yours',\n",
       " 'yourself',\n",
       " 'yourselves',\n",
       " 'he',\n",
       " 'him',\n",
       " 'his',\n",
       " 'himself',\n",
       " 'she',\n",
       " \"she's\",\n",
       " 'her',\n",
       " 'hers',\n",
       " 'herself',\n",
       " 'it',\n",
       " \"it's\",\n",
       " 'its',\n",
       " 'itself',\n",
       " 'they',\n",
       " 'them',\n",
       " 'their',\n",
       " 'theirs',\n",
       " 'themselves',\n",
       " 'what',\n",
       " 'which',\n",
       " 'who',\n",
       " 'whom',\n",
       " 'this',\n",
       " 'that',\n",
       " \"that'll\",\n",
       " 'these',\n",
       " 'those',\n",
       " 'am',\n",
       " 'is',\n",
       " 'are',\n",
       " 'was',\n",
       " 'were',\n",
       " 'be',\n",
       " 'been',\n",
       " 'being',\n",
       " 'have',\n",
       " 'has',\n",
       " 'had',\n",
       " 'having',\n",
       " 'do',\n",
       " 'does',\n",
       " 'did',\n",
       " 'doing',\n",
       " 'a',\n",
       " 'an',\n",
       " 'the',\n",
       " 'and',\n",
       " 'but',\n",
       " 'if',\n",
       " 'or',\n",
       " 'because',\n",
       " 'as',\n",
       " 'until',\n",
       " 'while',\n",
       " 'of',\n",
       " 'at',\n",
       " 'by',\n",
       " 'for',\n",
       " 'with',\n",
       " 'about',\n",
       " 'against',\n",
       " 'between',\n",
       " 'into',\n",
       " 'through',\n",
       " 'during',\n",
       " 'before',\n",
       " 'after',\n",
       " 'above',\n",
       " 'below',\n",
       " 'to',\n",
       " 'from',\n",
       " 'up',\n",
       " 'down',\n",
       " 'in',\n",
       " 'out',\n",
       " 'on',\n",
       " 'off',\n",
       " 'over',\n",
       " 'under',\n",
       " 'again',\n",
       " 'further',\n",
       " 'then',\n",
       " 'once',\n",
       " 'here',\n",
       " 'there',\n",
       " 'when',\n",
       " 'where',\n",
       " 'why',\n",
       " 'how',\n",
       " 'all',\n",
       " 'any',\n",
       " 'both',\n",
       " 'each',\n",
       " 'few',\n",
       " 'more',\n",
       " 'most',\n",
       " 'other',\n",
       " 'some',\n",
       " 'such',\n",
       " 'no',\n",
       " 'nor',\n",
       " 'not',\n",
       " 'only',\n",
       " 'own',\n",
       " 'same',\n",
       " 'so',\n",
       " 'than',\n",
       " 'too',\n",
       " 'very',\n",
       " 's',\n",
       " 't',\n",
       " 'can',\n",
       " 'will',\n",
       " 'just',\n",
       " 'don',\n",
       " \"don't\",\n",
       " 'should',\n",
       " \"should've\",\n",
       " 'now',\n",
       " 'd',\n",
       " 'll',\n",
       " 'm',\n",
       " 'o',\n",
       " 're',\n",
       " 've',\n",
       " 'y',\n",
       " 'ain',\n",
       " 'aren',\n",
       " \"aren't\",\n",
       " 'couldn',\n",
       " \"couldn't\",\n",
       " 'didn',\n",
       " \"didn't\",\n",
       " 'doesn',\n",
       " \"doesn't\",\n",
       " 'hadn',\n",
       " \"hadn't\",\n",
       " 'hasn',\n",
       " \"hasn't\",\n",
       " 'haven',\n",
       " \"haven't\",\n",
       " 'isn',\n",
       " \"isn't\",\n",
       " 'ma',\n",
       " 'mightn',\n",
       " \"mightn't\",\n",
       " 'mustn',\n",
       " \"mustn't\",\n",
       " 'needn',\n",
       " \"needn't\",\n",
       " 'shan',\n",
       " \"shan't\",\n",
       " 'shouldn',\n",
       " \"shouldn't\",\n",
       " 'wasn',\n",
       " \"wasn't\",\n",
       " 'weren',\n",
       " \"weren't\",\n",
       " 'won',\n",
       " \"won't\",\n",
       " 'wouldn',\n",
       " \"wouldn't\"]"
      ]
     },
     "execution_count": 21,
     "metadata": {},
     "output_type": "execute_result"
    }
   ],
   "source": [
    "#removing stopwords\n",
    "from nltk.corpus import stopwords\n",
    "stopwords.words('english')"
   ]
  },
  {
   "cell_type": "code",
   "execution_count": 22,
   "metadata": {},
   "outputs": [],
   "source": [
    "stop_words = set(stopwords.words('english'))\n",
    "def clean_stopwords(tokens):\n",
    "    return [item for item in tokens if item not in stop_words]"
   ]
  },
  {
   "cell_type": "code",
   "execution_count": 23,
   "metadata": {},
   "outputs": [
    {
     "data": {
      "text/plain": [
       "['best', 'twitter', 'client', 'android', 'functional', 'beautiful']"
      ]
     },
     "execution_count": 23,
     "metadata": {},
     "output_type": "execute_result"
    }
   ],
   "source": [
    "clean_stopwords(\n",
    "    clean_tokenization(\n",
    "        clean_lowercase(\n",
    "            clean_non_alphanumeric(\n",
    "                test\n",
    "            )\n",
    "        )\n",
    "    )\n",
    ")"
   ]
  },
  {
   "cell_type": "code",
   "execution_count": 24,
   "metadata": {},
   "outputs": [],
   "source": [
    "#stemming and lemmatization\n",
    "from nltk.stem import PorterStemmer\n",
    "\n",
    "stemmer = PorterStemmer()\n",
    "def clean_stem(tokens):\n",
    "    return [stemmer.stem(i) for i in tokens]"
   ]
  },
  {
   "cell_type": "code",
   "execution_count": 25,
   "metadata": {},
   "outputs": [
    {
     "data": {
      "text/plain": [
       "['best', 'twitter', 'client', 'android', 'function', 'beauti']"
      ]
     },
     "execution_count": 25,
     "metadata": {},
     "output_type": "execute_result"
    }
   ],
   "source": [
    "clean_stem(\n",
    "    clean_stopwords(\n",
    "    clean_tokenization(\n",
    "        clean_lowercase(\n",
    "            clean_non_alphanumeric(\n",
    "                test\n",
    "            )\n",
    "        )\n",
    "    )\n",
    ")\n",
    ")"
   ]
  },
  {
   "cell_type": "code",
   "execution_count": 26,
   "metadata": {},
   "outputs": [],
   "source": [
    "from nltk.stem import WordNetLemmatizer\n",
    "lemma = WordNetLemmatizer()\n",
    "\n",
    "def clean_lemmatization(token):\n",
    "    return [lemma.lemmatize(word=w, pos='v') for w in token]"
   ]
  },
  {
   "cell_type": "code",
   "execution_count": 27,
   "metadata": {},
   "outputs": [
    {
     "data": {
      "text/plain": [
       "['best', 'twitter', 'client', 'android', 'functional', 'beautiful']"
      ]
     },
     "execution_count": 27,
     "metadata": {},
     "output_type": "execute_result"
    }
   ],
   "source": [
    "clean_lemmatization(\n",
    "    clean_stopwords(\n",
    "    clean_tokenization(\n",
    "        clean_lowercase(\n",
    "            clean_non_alphanumeric(\n",
    "                test\n",
    "            )\n",
    "        )\n",
    "    )\n",
    ")\n",
    ")"
   ]
  },
  {
   "cell_type": "code",
   "execution_count": 28,
   "metadata": {},
   "outputs": [],
   "source": [
    "#removing word having lengths <=2\n",
    "def clean_length(token):\n",
    "    return [i for i in token if len(i) > 2]"
   ]
  },
  {
   "cell_type": "code",
   "execution_count": 29,
   "metadata": {},
   "outputs": [
    {
     "data": {
      "text/plain": [
       "['best', 'twitter', 'client', 'android', 'functional', 'beautiful']"
      ]
     },
     "execution_count": 29,
     "metadata": {},
     "output_type": "execute_result"
    }
   ],
   "source": [
    "clean_length(\n",
    "        clean_lemmatization(\n",
    "    clean_stopwords(\n",
    "    clean_tokenization(\n",
    "        clean_lowercase(\n",
    "            clean_non_alphanumeric(\n",
    "                test\n",
    "            )\n",
    "        )\n",
    "    )\n",
    ")\n",
    ")\n",
    ")"
   ]
  },
  {
   "cell_type": "code",
   "execution_count": 30,
   "metadata": {},
   "outputs": [],
   "source": [
    "#converting tokens back to string\n",
    "def convert_to_string(tokens):\n",
    "    return \" \".join(tokens)"
   ]
  },
  {
   "cell_type": "code",
   "execution_count": 31,
   "metadata": {},
   "outputs": [
    {
     "data": {
      "text/plain": [
       "'best twitter client android functional beautiful'"
      ]
     },
     "execution_count": 31,
     "metadata": {},
     "output_type": "execute_result"
    }
   ],
   "source": [
    "convert_to_string(\n",
    "    clean_length(\n",
    "        clean_lemmatization(\n",
    "    clean_stopwords(\n",
    "    clean_tokenization(\n",
    "        clean_lowercase(\n",
    "            clean_non_alphanumeric(\n",
    "                test\n",
    "            )\n",
    "        )\n",
    "    )\n",
    ")\n",
    ")\n",
    ")\n",
    ")"
   ]
  },
  {
   "cell_type": "code",
   "execution_count": 32,
   "metadata": {},
   "outputs": [],
   "source": [
    "def clean_tokenizer(text):\n",
    "    text = clean_non_alphanumeric(text)\n",
    "    text = clean_lowercase(text)\n",
    "    text = clean_tokenization(text)    \n",
    "    return text"
   ]
  },
  {
   "cell_type": "code",
   "execution_count": 33,
   "metadata": {},
   "outputs": [],
   "source": [
    "def comment_preprocessing(comment_text):\n",
    "    comment_text = clean_non_alphanumeric(comment_text)\n",
    "    comment_text = clean_lowercase(comment_text)\n",
    "    comment_text = clean_tokenization(comment_text)\n",
    "    comment_text = clean_stopwords(comment_text)\n",
    "    comment_text = clean_lemmatization(comment_text)\n",
    "    comment_text = clean_length(comment_text)\n",
    "    comment_text = convert_to_string(comment_text)\n",
    "    return comment_text"
   ]
  },
  {
   "cell_type": "code",
   "execution_count": 34,
   "metadata": {},
   "outputs": [
    {
     "data": {
      "text/plain": [
       "'test whether work per need'"
      ]
     },
     "execution_count": 34,
     "metadata": {},
     "output_type": "execute_result"
    }
   ],
   "source": [
    "comment_preprocessing(\"I have to test whether This is working as per needs or not\")"
   ]
  },
  {
   "cell_type": "code",
   "execution_count": 35,
   "metadata": {},
   "outputs": [
    {
     "data": {
      "text/plain": [
       "['this', 'is', 'good', 'app']"
      ]
     },
     "execution_count": 35,
     "metadata": {},
     "output_type": "execute_result"
    }
   ],
   "source": [
    "clean_tokenizer(\"This is good app\")"
   ]
  },
  {
   "cell_type": "code",
   "execution_count": null,
   "metadata": {},
   "outputs": [],
   "source": []
  }
 ],
 "metadata": {
  "kernelspec": {
   "display_name": "Python 3",
   "language": "python",
   "name": "python3"
  },
  "language_info": {
   "codemirror_mode": {
    "name": "ipython",
    "version": 3
   },
   "file_extension": ".py",
   "mimetype": "text/x-python",
   "name": "python",
   "nbconvert_exporter": "python",
   "pygments_lexer": "ipython3",
   "version": "3.8.3"
  }
 },
 "nbformat": 4,
 "nbformat_minor": 4
}
